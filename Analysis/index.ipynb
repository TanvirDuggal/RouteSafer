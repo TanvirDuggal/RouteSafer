{
 "cells": [
  {
   "cell_type": "code",
   "execution_count": 1,
   "metadata": {
    "collapsed": true
   },
   "outputs": [],
   "source": [
    "import pandas as pd\n",
    "import numpy as np\n",
    "import gmplot\n",
    "\n",
    "import matplotlib.pyplot as plt\n",
    "\n",
    "import folium\n",
    "from IPython.display import display\n",
    "\n",
    "import sklearn\n",
    "import sklearn.preprocessing as pre\n",
    "import sklearn.model_selection as mdl\n",
    "\n",
    "import random"
   ]
  },
  {
   "cell_type": "code",
   "execution_count": 2,
   "metadata": {
    "collapsed": true
   },
   "outputs": [],
   "source": [
    "accident1 = pd.read_csv('../RawData/KSI(1999-2014).csv')\n",
    "accident2 = pd.read_csv('../RawData/KSI(2008-2018).csv')"
   ]
  },
  {
   "cell_type": "code",
   "execution_count": null,
   "metadata": {
    "collapsed": true
   },
   "outputs": [],
   "source": []
  },
  {
   "cell_type": "code",
   "execution_count": null,
   "metadata": {
    "collapsed": true
   },
   "outputs": [],
   "source": []
  },
  {
   "cell_type": "code",
   "execution_count": 3,
   "metadata": {
    "collapsed": true,
    "scrolled": true
   },
   "outputs": [],
   "source": [
    "accident = accident2[['DATE','LATITUDE', 'LONGITUDE', 'STREET1', 'STREET2', 'ROAD_CLASS', 'District', \n",
    "                      'LOCCOORD', 'ACCLOC', 'INJURY', 'INITDIR', 'VEHTYPE', 'MANOEUVER', 'DRIVACT', \n",
    "                      'SPEEDING', 'AG_DRIV', 'REDLIGHT', 'ALCOHOL']]"
   ]
  },
  {
   "cell_type": "code",
   "execution_count": 4,
   "metadata": {},
   "outputs": [
    {
     "name": "stdout",
     "output_type": "stream",
     "text": [
      "<class 'pandas.core.frame.DataFrame'>\n",
      "RangeIndex: 12244 entries, 0 to 12243\n",
      "Data columns (total 18 columns):\n",
      "DATE          12244 non-null object\n",
      "LATITUDE      12244 non-null float64\n",
      "LONGITUDE     12244 non-null float64\n",
      "STREET1       12244 non-null object\n",
      "STREET2       12244 non-null object\n",
      "ROAD_CLASS    12244 non-null object\n",
      "District      12244 non-null object\n",
      "LOCCOORD      12244 non-null object\n",
      "ACCLOC        12244 non-null object\n",
      "INJURY        12244 non-null object\n",
      "INITDIR       12244 non-null object\n",
      "VEHTYPE       12244 non-null object\n",
      "MANOEUVER     12244 non-null object\n",
      "DRIVACT       12244 non-null object\n",
      "SPEEDING      12244 non-null object\n",
      "AG_DRIV       12244 non-null object\n",
      "REDLIGHT      12244 non-null object\n",
      "ALCOHOL       12244 non-null object\n",
      "dtypes: float64(2), object(16)\n",
      "memory usage: 1.7+ MB\n"
     ]
    }
   ],
   "source": [
    "accident.info()"
   ]
  },
  {
   "cell_type": "code",
   "execution_count": 5,
   "metadata": {},
   "outputs": [
    {
     "data": {
      "text/html": [
       "<div>\n",
       "<style>\n",
       "    .dataframe thead tr:only-child th {\n",
       "        text-align: right;\n",
       "    }\n",
       "\n",
       "    .dataframe thead th {\n",
       "        text-align: left;\n",
       "    }\n",
       "\n",
       "    .dataframe tbody tr th {\n",
       "        vertical-align: top;\n",
       "    }\n",
       "</style>\n",
       "<table border=\"1\" class=\"dataframe\">\n",
       "  <thead>\n",
       "    <tr style=\"text-align: right;\">\n",
       "      <th></th>\n",
       "      <th>DATE</th>\n",
       "      <th>LATITUDE</th>\n",
       "      <th>LONGITUDE</th>\n",
       "      <th>STREET1</th>\n",
       "      <th>STREET2</th>\n",
       "      <th>ROAD_CLASS</th>\n",
       "      <th>District</th>\n",
       "      <th>LOCCOORD</th>\n",
       "      <th>ACCLOC</th>\n",
       "      <th>INJURY</th>\n",
       "      <th>INITDIR</th>\n",
       "      <th>VEHTYPE</th>\n",
       "      <th>MANOEUVER</th>\n",
       "      <th>DRIVACT</th>\n",
       "      <th>SPEEDING</th>\n",
       "      <th>AG_DRIV</th>\n",
       "      <th>REDLIGHT</th>\n",
       "      <th>ALCOHOL</th>\n",
       "    </tr>\n",
       "  </thead>\n",
       "  <tbody>\n",
       "    <tr>\n",
       "      <th>0</th>\n",
       "      <td>2017-06-03T04:00:00.000Z</td>\n",
       "      <td>43.675280</td>\n",
       "      <td>-79.454730</td>\n",
       "      <td>ST CLAIR AVE W</td>\n",
       "      <td>CALEDONIA RD</td>\n",
       "      <td>Major Arterial</td>\n",
       "      <td>Toronto and East York</td>\n",
       "      <td>Intersection</td>\n",
       "      <td>Intersection Related</td>\n",
       "      <td>Major</td>\n",
       "      <td>West</td>\n",
       "      <td>Bicycle</td>\n",
       "      <td>Going Ahead</td>\n",
       "      <td></td>\n",
       "      <td></td>\n",
       "      <td>Yes</td>\n",
       "      <td></td>\n",
       "      <td></td>\n",
       "    </tr>\n",
       "    <tr>\n",
       "      <th>1</th>\n",
       "      <td>2017-09-25T04:00:00.000Z</td>\n",
       "      <td>43.770049</td>\n",
       "      <td>-79.520641</td>\n",
       "      <td>4673 JANE ST</td>\n",
       "      <td></td>\n",
       "      <td>Major Arterial</td>\n",
       "      <td>Etobicoke York</td>\n",
       "      <td>Mid-Block</td>\n",
       "      <td>Non Intersection</td>\n",
       "      <td>None</td>\n",
       "      <td>North</td>\n",
       "      <td>Automobile, Station Wagon</td>\n",
       "      <td>Going Ahead</td>\n",
       "      <td>Driving Properly</td>\n",
       "      <td>Yes</td>\n",
       "      <td>Yes</td>\n",
       "      <td></td>\n",
       "      <td></td>\n",
       "    </tr>\n",
       "    <tr>\n",
       "      <th>2</th>\n",
       "      <td>2017-09-25T04:00:00.000Z</td>\n",
       "      <td>43.770049</td>\n",
       "      <td>-79.520641</td>\n",
       "      <td>4673 JANE ST</td>\n",
       "      <td></td>\n",
       "      <td>Major Arterial</td>\n",
       "      <td>Etobicoke York</td>\n",
       "      <td>Mid-Block</td>\n",
       "      <td>Non Intersection</td>\n",
       "      <td>Major</td>\n",
       "      <td>East</td>\n",
       "      <td></td>\n",
       "      <td></td>\n",
       "      <td></td>\n",
       "      <td>Yes</td>\n",
       "      <td>Yes</td>\n",
       "      <td></td>\n",
       "      <td></td>\n",
       "    </tr>\n",
       "    <tr>\n",
       "      <th>3</th>\n",
       "      <td>2017-12-01T05:00:00.000Z</td>\n",
       "      <td>43.751868</td>\n",
       "      <td>-79.286601</td>\n",
       "      <td>BIRCHMOUNT RD</td>\n",
       "      <td>MERRYFIELD DR</td>\n",
       "      <td>Major Arterial</td>\n",
       "      <td>Scarborough</td>\n",
       "      <td>Intersection</td>\n",
       "      <td>At Intersection</td>\n",
       "      <td>None</td>\n",
       "      <td>North</td>\n",
       "      <td>Passenger Van</td>\n",
       "      <td>Going Ahead</td>\n",
       "      <td>Driving Properly</td>\n",
       "      <td></td>\n",
       "      <td></td>\n",
       "      <td></td>\n",
       "      <td></td>\n",
       "    </tr>\n",
       "    <tr>\n",
       "      <th>4</th>\n",
       "      <td>2017-12-01T05:00:00.000Z</td>\n",
       "      <td>43.751868</td>\n",
       "      <td>-79.286601</td>\n",
       "      <td>BIRCHMOUNT RD</td>\n",
       "      <td>MERRYFIELD DR</td>\n",
       "      <td>Major Arterial</td>\n",
       "      <td>Scarborough</td>\n",
       "      <td>Intersection</td>\n",
       "      <td>At Intersection</td>\n",
       "      <td>Fatal</td>\n",
       "      <td>East</td>\n",
       "      <td></td>\n",
       "      <td></td>\n",
       "      <td></td>\n",
       "      <td></td>\n",
       "      <td></td>\n",
       "      <td></td>\n",
       "      <td></td>\n",
       "    </tr>\n",
       "  </tbody>\n",
       "</table>\n",
       "</div>"
      ],
      "text/plain": [
       "                       DATE   LATITUDE  LONGITUDE         STREET1  \\\n",
       "0  2017-06-03T04:00:00.000Z  43.675280 -79.454730  ST CLAIR AVE W   \n",
       "1  2017-09-25T04:00:00.000Z  43.770049 -79.520641    4673 JANE ST   \n",
       "2  2017-09-25T04:00:00.000Z  43.770049 -79.520641    4673 JANE ST   \n",
       "3  2017-12-01T05:00:00.000Z  43.751868 -79.286601   BIRCHMOUNT RD   \n",
       "4  2017-12-01T05:00:00.000Z  43.751868 -79.286601   BIRCHMOUNT RD   \n",
       "\n",
       "         STREET2      ROAD_CLASS               District      LOCCOORD  \\\n",
       "0   CALEDONIA RD  Major Arterial  Toronto and East York  Intersection   \n",
       "1                 Major Arterial         Etobicoke York     Mid-Block   \n",
       "2                 Major Arterial         Etobicoke York     Mid-Block   \n",
       "3  MERRYFIELD DR  Major Arterial            Scarborough  Intersection   \n",
       "4  MERRYFIELD DR  Major Arterial            Scarborough  Intersection   \n",
       "\n",
       "                 ACCLOC INJURY INITDIR                    VEHTYPE  \\\n",
       "0  Intersection Related  Major    West                    Bicycle   \n",
       "1      Non Intersection   None   North  Automobile, Station Wagon   \n",
       "2      Non Intersection  Major    East                              \n",
       "3       At Intersection   None   North              Passenger Van   \n",
       "4       At Intersection  Fatal    East                              \n",
       "\n",
       "     MANOEUVER           DRIVACT SPEEDING AG_DRIV REDLIGHT ALCOHOL  \n",
       "0  Going Ahead                                Yes                   \n",
       "1  Going Ahead  Driving Properly      Yes     Yes                   \n",
       "2                                     Yes     Yes                   \n",
       "3  Going Ahead  Driving Properly                                    \n",
       "4                                                                   "
      ]
     },
     "execution_count": 5,
     "metadata": {},
     "output_type": "execute_result"
    }
   ],
   "source": [
    "accident.head()"
   ]
  },
  {
   "cell_type": "code",
   "execution_count": 6,
   "metadata": {},
   "outputs": [
    {
     "name": "stderr",
     "output_type": "stream",
     "text": [
      "C:\\Users\\Tanvy\\Anaconda3\\lib\\site-packages\\ipykernel_launcher.py:1: SettingWithCopyWarning: \n",
      "A value is trying to be set on a copy of a slice from a DataFrame.\n",
      "Try using .loc[row_indexer,col_indexer] = value instead\n",
      "\n",
      "See the caveats in the documentation: http://pandas.pydata.org/pandas-docs/stable/indexing.html#indexing-view-versus-copy\n",
      "  \"\"\"Entry point for launching an IPython kernel.\n"
     ]
    }
   ],
   "source": [
    "accident[\"DATE\"] = pd.to_datetime(accident[\"DATE\"])\n",
    "accident.index = accident[\"DATE\"]"
   ]
  },
  {
   "cell_type": "code",
   "execution_count": 7,
   "metadata": {},
   "outputs": [
    {
     "data": {
      "text/plain": [
       "array([2017, 2008, 2014, 2015, 2018, 2013, 2009, 2010, 2012, 2016, 2011], dtype=int64)"
      ]
     },
     "execution_count": 7,
     "metadata": {},
     "output_type": "execute_result"
    }
   ],
   "source": [
    "pd.unique(accident['DATE'].dt.year)"
   ]
  },
  {
   "cell_type": "code",
   "execution_count": 8,
   "metadata": {},
   "outputs": [
    {
     "data": {
      "text/html": [
       "<div>\n",
       "<style>\n",
       "    .dataframe thead tr:only-child th {\n",
       "        text-align: right;\n",
       "    }\n",
       "\n",
       "    .dataframe thead th {\n",
       "        text-align: left;\n",
       "    }\n",
       "\n",
       "    .dataframe tbody tr th {\n",
       "        vertical-align: top;\n",
       "    }\n",
       "</style>\n",
       "<table border=\"1\" class=\"dataframe\">\n",
       "  <thead>\n",
       "    <tr style=\"text-align: right;\">\n",
       "      <th></th>\n",
       "      <th>DATE</th>\n",
       "      <th>LATITUDE</th>\n",
       "      <th>LONGITUDE</th>\n",
       "      <th>STREET1</th>\n",
       "      <th>STREET2</th>\n",
       "      <th>ROAD_CLASS</th>\n",
       "      <th>District</th>\n",
       "      <th>LOCCOORD</th>\n",
       "      <th>ACCLOC</th>\n",
       "      <th>INJURY</th>\n",
       "      <th>INITDIR</th>\n",
       "      <th>VEHTYPE</th>\n",
       "      <th>MANOEUVER</th>\n",
       "      <th>DRIVACT</th>\n",
       "      <th>SPEEDING</th>\n",
       "      <th>AG_DRIV</th>\n",
       "      <th>REDLIGHT</th>\n",
       "      <th>ALCOHOL</th>\n",
       "    </tr>\n",
       "    <tr>\n",
       "      <th>DATE</th>\n",
       "      <th></th>\n",
       "      <th></th>\n",
       "      <th></th>\n",
       "      <th></th>\n",
       "      <th></th>\n",
       "      <th></th>\n",
       "      <th></th>\n",
       "      <th></th>\n",
       "      <th></th>\n",
       "      <th></th>\n",
       "      <th></th>\n",
       "      <th></th>\n",
       "      <th></th>\n",
       "      <th></th>\n",
       "      <th></th>\n",
       "      <th></th>\n",
       "      <th></th>\n",
       "      <th></th>\n",
       "    </tr>\n",
       "  </thead>\n",
       "  <tbody>\n",
       "    <tr>\n",
       "      <th>2017-06-03 04:00:00</th>\n",
       "      <td>2017-06-03 04:00:00</td>\n",
       "      <td>43.675280</td>\n",
       "      <td>-79.454730</td>\n",
       "      <td>ST CLAIR AVE W</td>\n",
       "      <td>CALEDONIA RD</td>\n",
       "      <td>Major Arterial</td>\n",
       "      <td>Toronto and East York</td>\n",
       "      <td>Intersection</td>\n",
       "      <td>Intersection Related</td>\n",
       "      <td>Major</td>\n",
       "      <td>West</td>\n",
       "      <td>Bicycle</td>\n",
       "      <td>Going Ahead</td>\n",
       "      <td></td>\n",
       "      <td></td>\n",
       "      <td>Yes</td>\n",
       "      <td></td>\n",
       "      <td></td>\n",
       "    </tr>\n",
       "    <tr>\n",
       "      <th>2017-09-25 04:00:00</th>\n",
       "      <td>2017-09-25 04:00:00</td>\n",
       "      <td>43.770049</td>\n",
       "      <td>-79.520641</td>\n",
       "      <td>4673 JANE ST</td>\n",
       "      <td></td>\n",
       "      <td>Major Arterial</td>\n",
       "      <td>Etobicoke York</td>\n",
       "      <td>Mid-Block</td>\n",
       "      <td>Non Intersection</td>\n",
       "      <td>None</td>\n",
       "      <td>North</td>\n",
       "      <td>Automobile, Station Wagon</td>\n",
       "      <td>Going Ahead</td>\n",
       "      <td>Driving Properly</td>\n",
       "      <td>Yes</td>\n",
       "      <td>Yes</td>\n",
       "      <td></td>\n",
       "      <td></td>\n",
       "    </tr>\n",
       "    <tr>\n",
       "      <th>2017-09-25 04:00:00</th>\n",
       "      <td>2017-09-25 04:00:00</td>\n",
       "      <td>43.770049</td>\n",
       "      <td>-79.520641</td>\n",
       "      <td>4673 JANE ST</td>\n",
       "      <td></td>\n",
       "      <td>Major Arterial</td>\n",
       "      <td>Etobicoke York</td>\n",
       "      <td>Mid-Block</td>\n",
       "      <td>Non Intersection</td>\n",
       "      <td>Major</td>\n",
       "      <td>East</td>\n",
       "      <td></td>\n",
       "      <td></td>\n",
       "      <td></td>\n",
       "      <td>Yes</td>\n",
       "      <td>Yes</td>\n",
       "      <td></td>\n",
       "      <td></td>\n",
       "    </tr>\n",
       "    <tr>\n",
       "      <th>2017-12-01 05:00:00</th>\n",
       "      <td>2017-12-01 05:00:00</td>\n",
       "      <td>43.751868</td>\n",
       "      <td>-79.286601</td>\n",
       "      <td>BIRCHMOUNT RD</td>\n",
       "      <td>MERRYFIELD DR</td>\n",
       "      <td>Major Arterial</td>\n",
       "      <td>Scarborough</td>\n",
       "      <td>Intersection</td>\n",
       "      <td>At Intersection</td>\n",
       "      <td>None</td>\n",
       "      <td>North</td>\n",
       "      <td>Passenger Van</td>\n",
       "      <td>Going Ahead</td>\n",
       "      <td>Driving Properly</td>\n",
       "      <td></td>\n",
       "      <td></td>\n",
       "      <td></td>\n",
       "      <td></td>\n",
       "    </tr>\n",
       "    <tr>\n",
       "      <th>2017-12-01 05:00:00</th>\n",
       "      <td>2017-12-01 05:00:00</td>\n",
       "      <td>43.751868</td>\n",
       "      <td>-79.286601</td>\n",
       "      <td>BIRCHMOUNT RD</td>\n",
       "      <td>MERRYFIELD DR</td>\n",
       "      <td>Major Arterial</td>\n",
       "      <td>Scarborough</td>\n",
       "      <td>Intersection</td>\n",
       "      <td>At Intersection</td>\n",
       "      <td>Fatal</td>\n",
       "      <td>East</td>\n",
       "      <td></td>\n",
       "      <td></td>\n",
       "      <td></td>\n",
       "      <td></td>\n",
       "      <td></td>\n",
       "      <td></td>\n",
       "      <td></td>\n",
       "    </tr>\n",
       "  </tbody>\n",
       "</table>\n",
       "</div>"
      ],
      "text/plain": [
       "                                   DATE   LATITUDE  LONGITUDE         STREET1  \\\n",
       "DATE                                                                            \n",
       "2017-06-03 04:00:00 2017-06-03 04:00:00  43.675280 -79.454730  ST CLAIR AVE W   \n",
       "2017-09-25 04:00:00 2017-09-25 04:00:00  43.770049 -79.520641    4673 JANE ST   \n",
       "2017-09-25 04:00:00 2017-09-25 04:00:00  43.770049 -79.520641    4673 JANE ST   \n",
       "2017-12-01 05:00:00 2017-12-01 05:00:00  43.751868 -79.286601   BIRCHMOUNT RD   \n",
       "2017-12-01 05:00:00 2017-12-01 05:00:00  43.751868 -79.286601   BIRCHMOUNT RD   \n",
       "\n",
       "                           STREET2      ROAD_CLASS               District  \\\n",
       "DATE                                                                        \n",
       "2017-06-03 04:00:00   CALEDONIA RD  Major Arterial  Toronto and East York   \n",
       "2017-09-25 04:00:00                 Major Arterial         Etobicoke York   \n",
       "2017-09-25 04:00:00                 Major Arterial         Etobicoke York   \n",
       "2017-12-01 05:00:00  MERRYFIELD DR  Major Arterial            Scarborough   \n",
       "2017-12-01 05:00:00  MERRYFIELD DR  Major Arterial            Scarborough   \n",
       "\n",
       "                         LOCCOORD                ACCLOC INJURY INITDIR  \\\n",
       "DATE                                                                     \n",
       "2017-06-03 04:00:00  Intersection  Intersection Related  Major    West   \n",
       "2017-09-25 04:00:00     Mid-Block      Non Intersection   None   North   \n",
       "2017-09-25 04:00:00     Mid-Block      Non Intersection  Major    East   \n",
       "2017-12-01 05:00:00  Intersection       At Intersection   None   North   \n",
       "2017-12-01 05:00:00  Intersection       At Intersection  Fatal    East   \n",
       "\n",
       "                                       VEHTYPE    MANOEUVER           DRIVACT  \\\n",
       "DATE                                                                            \n",
       "2017-06-03 04:00:00                    Bicycle  Going Ahead                     \n",
       "2017-09-25 04:00:00  Automobile, Station Wagon  Going Ahead  Driving Properly   \n",
       "2017-09-25 04:00:00                                                             \n",
       "2017-12-01 05:00:00              Passenger Van  Going Ahead  Driving Properly   \n",
       "2017-12-01 05:00:00                                                             \n",
       "\n",
       "                    SPEEDING AG_DRIV REDLIGHT ALCOHOL  \n",
       "DATE                                                   \n",
       "2017-06-03 04:00:00              Yes                   \n",
       "2017-09-25 04:00:00      Yes     Yes                   \n",
       "2017-09-25 04:00:00      Yes     Yes                   \n",
       "2017-12-01 05:00:00                                    \n",
       "2017-12-01 05:00:00                                    "
      ]
     },
     "execution_count": 8,
     "metadata": {},
     "output_type": "execute_result"
    }
   ],
   "source": [
    "accident.head()"
   ]
  },
  {
   "cell_type": "code",
   "execution_count": 9,
   "metadata": {
    "collapsed": true
   },
   "outputs": [],
   "source": [
    "accident = accident.replace(' ', np.NAN, regex=False)"
   ]
  },
  {
   "cell_type": "code",
   "execution_count": 10,
   "metadata": {
    "scrolled": true
   },
   "outputs": [
    {
     "name": "stdout",
     "output_type": "stream",
     "text": [
      "<class 'pandas.core.frame.DataFrame'>\n",
      "DatetimeIndex: 12244 entries, 2017-06-03 04:00:00 to 2011-06-26 04:00:00\n",
      "Data columns (total 18 columns):\n",
      "DATE          12244 non-null datetime64[ns]\n",
      "LATITUDE      12244 non-null float64\n",
      "LONGITUDE     12244 non-null float64\n",
      "STREET1       12244 non-null object\n",
      "STREET2       11191 non-null object\n",
      "ROAD_CLASS    12223 non-null object\n",
      "District      12222 non-null object\n",
      "LOCCOORD      12169 non-null object\n",
      "ACCLOC        8348 non-null object\n",
      "INJURY        10915 non-null object\n",
      "INITDIR       8821 non-null object\n",
      "VEHTYPE       10095 non-null object\n",
      "MANOEUVER     7022 non-null object\n",
      "DRIVACT       6180 non-null object\n",
      "SPEEDING      2035 non-null object\n",
      "AG_DRIV       6324 non-null object\n",
      "REDLIGHT      959 non-null object\n",
      "ALCOHOL       487 non-null object\n",
      "dtypes: datetime64[ns](1), float64(2), object(15)\n",
      "memory usage: 1.8+ MB\n"
     ]
    }
   ],
   "source": [
    "accident.info()"
   ]
  },
  {
   "cell_type": "code",
   "execution_count": 11,
   "metadata": {},
   "outputs": [
    {
     "name": "stdout",
     "output_type": "stream",
     "text": [
      "22\n",
      "0\n"
     ]
    },
    {
     "name": "stderr",
     "output_type": "stream",
     "text": [
      "C:\\Users\\Tanvy\\Anaconda3\\lib\\site-packages\\ipykernel_launcher.py:3: SettingWithCopyWarning: \n",
      "A value is trying to be set on a copy of a slice from a DataFrame\n",
      "\n",
      "See the caveats in the documentation: http://pandas.pydata.org/pandas-docs/stable/indexing.html#indexing-view-versus-copy\n",
      "  This is separate from the ipykernel package so we can avoid doing imports until\n"
     ]
    }
   ],
   "source": [
    "accident[\"District\"][accident[\"District\"].isnull()]\n",
    "print(len(accident[\"District\"][accident[\"District\"].isnull()]))\n",
    "accident[\"District\"][accident[\"District\"].isnull()] = \"Scarborough\"\n",
    "print(len(accident[\"District\"][accident[\"District\"].isnull()]))\n"
   ]
  },
  {
   "cell_type": "code",
   "execution_count": 12,
   "metadata": {},
   "outputs": [
    {
     "name": "stdout",
     "output_type": "stream",
     "text": [
      "21\n",
      "0\n"
     ]
    },
    {
     "name": "stderr",
     "output_type": "stream",
     "text": [
      "C:\\Users\\Tanvy\\Anaconda3\\lib\\site-packages\\ipykernel_launcher.py:3: SettingWithCopyWarning: \n",
      "A value is trying to be set on a copy of a slice from a DataFrame\n",
      "\n",
      "See the caveats in the documentation: http://pandas.pydata.org/pandas-docs/stable/indexing.html#indexing-view-versus-copy\n",
      "  This is separate from the ipykernel package so we can avoid doing imports until\n"
     ]
    }
   ],
   "source": [
    "accident[\"ROAD_CLASS\"][accident[\"ROAD_CLASS\"].isnull()]\n",
    "print(len(accident[\"ROAD_CLASS\"][accident[\"ROAD_CLASS\"].isnull()]))\n",
    "accident[\"ROAD_CLASS\"][accident[\"ROAD_CLASS\"].isnull()] = \"Major Arterial\"\n",
    "print(len(accident[\"ROAD_CLASS\"][accident[\"ROAD_CLASS\"].isnull()]))\n"
   ]
  },
  {
   "cell_type": "code",
   "execution_count": 13,
   "metadata": {},
   "outputs": [
    {
     "name": "stdout",
     "output_type": "stream",
     "text": [
      "1053\n",
      "0\n"
     ]
    },
    {
     "name": "stderr",
     "output_type": "stream",
     "text": [
      "C:\\Users\\Tanvy\\Anaconda3\\lib\\site-packages\\ipykernel_launcher.py:3: SettingWithCopyWarning: \n",
      "A value is trying to be set on a copy of a slice from a DataFrame\n",
      "\n",
      "See the caveats in the documentation: http://pandas.pydata.org/pandas-docs/stable/indexing.html#indexing-view-versus-copy\n",
      "  This is separate from the ipykernel package so we can avoid doing imports until\n"
     ]
    }
   ],
   "source": [
    "accident[\"STREET2\"][accident[\"STREET2\"].isnull()]\n",
    "print(len(accident[\"STREET2\"][accident[\"STREET2\"].isnull()]))\n",
    "accident[\"STREET2\"][accident[\"STREET2\"].isnull()] = \"Major Arterial\"\n",
    "print(len(accident[\"STREET2\"][accident[\"STREET2\"].isnull()]))\n"
   ]
  },
  {
   "cell_type": "code",
   "execution_count": 14,
   "metadata": {},
   "outputs": [
    {
     "name": "stdout",
     "output_type": "stream",
     "text": [
      "75\n",
      "0\n"
     ]
    },
    {
     "name": "stderr",
     "output_type": "stream",
     "text": [
      "C:\\Users\\Tanvy\\Anaconda3\\lib\\site-packages\\ipykernel_launcher.py:3: SettingWithCopyWarning: \n",
      "A value is trying to be set on a copy of a slice from a DataFrame\n",
      "\n",
      "See the caveats in the documentation: http://pandas.pydata.org/pandas-docs/stable/indexing.html#indexing-view-versus-copy\n",
      "  This is separate from the ipykernel package so we can avoid doing imports until\n"
     ]
    }
   ],
   "source": [
    "accident[\"LOCCOORD\"][accident[\"LOCCOORD\"].isnull()]\n",
    "print(len(accident[\"LOCCOORD\"][accident[\"LOCCOORD\"].isnull()]))\n",
    "accident[\"LOCCOORD\"][accident[\"LOCCOORD\"].isnull()] = \"Intersection\"\n",
    "print(len(accident[\"LOCCOORD\"][accident[\"LOCCOORD\"].isnull()]))\n"
   ]
  },
  {
   "cell_type": "code",
   "execution_count": 15,
   "metadata": {},
   "outputs": [
    {
     "name": "stdout",
     "output_type": "stream",
     "text": [
      "3896\n",
      "0\n"
     ]
    },
    {
     "name": "stderr",
     "output_type": "stream",
     "text": [
      "C:\\Users\\Tanvy\\Anaconda3\\lib\\site-packages\\ipykernel_launcher.py:3: SettingWithCopyWarning: \n",
      "A value is trying to be set on a copy of a slice from a DataFrame\n",
      "\n",
      "See the caveats in the documentation: http://pandas.pydata.org/pandas-docs/stable/indexing.html#indexing-view-versus-copy\n",
      "  This is separate from the ipykernel package so we can avoid doing imports until\n"
     ]
    }
   ],
   "source": [
    "accident[\"ACCLOC\"][accident[\"ACCLOC\"].isnull()]\n",
    "print(len(accident[\"ACCLOC\"][accident[\"ACCLOC\"].isnull()]))\n",
    "accident[\"ACCLOC\"][accident[\"ACCLOC\"].isnull()] = \"Non Intersection\"\n",
    "print(len(accident[\"ACCLOC\"][accident[\"ACCLOC\"].isnull()]))\n"
   ]
  },
  {
   "cell_type": "code",
   "execution_count": 16,
   "metadata": {},
   "outputs": [
    {
     "name": "stdout",
     "output_type": "stream",
     "text": [
      "1329\n",
      "0\n"
     ]
    },
    {
     "name": "stderr",
     "output_type": "stream",
     "text": [
      "C:\\Users\\Tanvy\\Anaconda3\\lib\\site-packages\\ipykernel_launcher.py:3: SettingWithCopyWarning: \n",
      "A value is trying to be set on a copy of a slice from a DataFrame\n",
      "\n",
      "See the caveats in the documentation: http://pandas.pydata.org/pandas-docs/stable/indexing.html#indexing-view-versus-copy\n",
      "  This is separate from the ipykernel package so we can avoid doing imports until\n"
     ]
    }
   ],
   "source": [
    "accident[\"INJURY\"][accident[\"INJURY\"].isnull()]\n",
    "print(len(accident[\"INJURY\"][accident[\"INJURY\"].isnull()]))\n",
    "accident[\"INJURY\"][accident[\"INJURY\"].isnull()] = \"Fatal\"\n",
    "print(len(accident[\"INJURY\"][accident[\"INJURY\"].isnull()]))\n"
   ]
  },
  {
   "cell_type": "code",
   "execution_count": 17,
   "metadata": {},
   "outputs": [
    {
     "name": "stdout",
     "output_type": "stream",
     "text": [
      "3423\n",
      "0\n"
     ]
    },
    {
     "name": "stderr",
     "output_type": "stream",
     "text": [
      "C:\\Users\\Tanvy\\Anaconda3\\lib\\site-packages\\ipykernel_launcher.py:3: SettingWithCopyWarning: \n",
      "A value is trying to be set on a copy of a slice from a DataFrame\n",
      "\n",
      "See the caveats in the documentation: http://pandas.pydata.org/pandas-docs/stable/indexing.html#indexing-view-versus-copy\n",
      "  This is separate from the ipykernel package so we can avoid doing imports until\n"
     ]
    }
   ],
   "source": [
    "accident[\"INITDIR\"][accident[\"INITDIR\"].isnull()]\n",
    "print(len(accident[\"INITDIR\"][accident[\"INITDIR\"].isnull()]))\n",
    "accident[\"INITDIR\"][accident[\"INITDIR\"].isnull()] = \"North\"\n",
    "print(len(accident[\"INITDIR\"][accident[\"INITDIR\"].isnull()]))\n"
   ]
  },
  {
   "cell_type": "code",
   "execution_count": 18,
   "metadata": {},
   "outputs": [
    {
     "name": "stdout",
     "output_type": "stream",
     "text": [
      "2149\n",
      "0\n"
     ]
    },
    {
     "name": "stderr",
     "output_type": "stream",
     "text": [
      "C:\\Users\\Tanvy\\Anaconda3\\lib\\site-packages\\ipykernel_launcher.py:3: SettingWithCopyWarning: \n",
      "A value is trying to be set on a copy of a slice from a DataFrame\n",
      "\n",
      "See the caveats in the documentation: http://pandas.pydata.org/pandas-docs/stable/indexing.html#indexing-view-versus-copy\n",
      "  This is separate from the ipykernel package so we can avoid doing imports until\n"
     ]
    }
   ],
   "source": [
    "accident[\"VEHTYPE\"][accident[\"VEHTYPE\"].isnull()]\n",
    "print(len(accident[\"VEHTYPE\"][accident[\"VEHTYPE\"].isnull()]))\n",
    "accident[\"VEHTYPE\"][accident[\"VEHTYPE\"].isnull()] = \"Other\"\n",
    "print(len(accident[\"VEHTYPE\"][accident[\"VEHTYPE\"].isnull()]))\n"
   ]
  },
  {
   "cell_type": "code",
   "execution_count": null,
   "metadata": {
    "collapsed": true
   },
   "outputs": [],
   "source": []
  },
  {
   "cell_type": "code",
   "execution_count": null,
   "metadata": {
    "collapsed": true
   },
   "outputs": [],
   "source": []
  },
  {
   "cell_type": "code",
   "execution_count": null,
   "metadata": {
    "collapsed": true
   },
   "outputs": [],
   "source": [
    "0-4, 0-4, 1-2, 0-4, 0-4, 0-4, 0-11"
   ]
  },
  {
   "cell_type": "code",
   "execution_count": null,
   "metadata": {
    "collapsed": true
   },
   "outputs": [],
   "source": []
  },
  {
   "cell_type": "code",
   "execution_count": 19,
   "metadata": {},
   "outputs": [
    {
     "name": "stdout",
     "output_type": "stream",
     "text": [
      "[4 0 0 ..., 1 1 1]\n"
     ]
    }
   ],
   "source": [
    "from sklearn import preprocessing\n",
    "enc = preprocessing.LabelEncoder()\n",
    "enc.fit(accident[\"District\"])\n",
    "new_cat_features = enc.transform(accident[\"District\"])\n",
    "print(new_cat_features) # [1 2 0]\n",
    "accident[\"District\"] = new_cat_features\n"
   ]
  },
  {
   "cell_type": "code",
   "execution_count": 20,
   "metadata": {},
   "outputs": [
    {
     "name": "stdout",
     "output_type": "stream",
     "text": [
      "[4 4 4 ..., 4 4 4]\n"
     ]
    }
   ],
   "source": [
    "from sklearn import preprocessing\n",
    "enc = preprocessing.LabelEncoder()\n",
    "enc.fit(accident[\"ROAD_CLASS\"])\n",
    "new_cat_features = enc.transform(accident[\"ROAD_CLASS\"])\n",
    "print(new_cat_features) # [1 2 0]\n",
    "accident[\"ROAD_CLASS\"] = new_cat_features"
   ]
  },
  {
   "cell_type": "code",
   "execution_count": 21,
   "metadata": {},
   "outputs": [
    {
     "name": "stdout",
     "output_type": "stream",
     "text": [
      "[1 2 2 ..., 1 1 1]\n"
     ]
    }
   ],
   "source": [
    "from sklearn import preprocessing\n",
    "enc = preprocessing.LabelEncoder()\n",
    "enc.fit(accident[\"LOCCOORD\"])\n",
    "new_cat_features = enc.transform(accident[\"LOCCOORD\"])\n",
    "print(new_cat_features) # [1 2 0]\n",
    "accident[\"LOCCOORD\"] = new_cat_features"
   ]
  },
  {
   "cell_type": "code",
   "execution_count": 22,
   "metadata": {},
   "outputs": [
    {
     "name": "stdout",
     "output_type": "stream",
     "text": [
      "[2 4 4 ..., 0 0 0]\n"
     ]
    }
   ],
   "source": [
    "from sklearn import preprocessing\n",
    "enc = preprocessing.LabelEncoder()\n",
    "enc.fit(accident[\"ACCLOC\"])\n",
    "new_cat_features = enc.transform(accident[\"ACCLOC\"])\n",
    "print(new_cat_features) # [1 2 0]\n",
    "accident[\"ACCLOC\"] = new_cat_features"
   ]
  },
  {
   "cell_type": "code",
   "execution_count": 23,
   "metadata": {},
   "outputs": [
    {
     "name": "stdout",
     "output_type": "stream",
     "text": [
      "[1 4 1 ..., 1 0 4]\n"
     ]
    }
   ],
   "source": [
    "from sklearn import preprocessing\n",
    "enc = preprocessing.LabelEncoder()\n",
    "enc.fit(accident[\"INJURY\"])\n",
    "new_cat_features = enc.transform(accident[\"INJURY\"])\n",
    "print(new_cat_features) # [1 2 0]\n",
    "accident[\"INJURY\"] = new_cat_features"
   ]
  },
  {
   "cell_type": "code",
   "execution_count": 24,
   "metadata": {},
   "outputs": [
    {
     "name": "stdout",
     "output_type": "stream",
     "text": [
      "[4 1 0 ..., 0 1 1]\n"
     ]
    }
   ],
   "source": [
    "from sklearn import preprocessing\n",
    "enc = preprocessing.LabelEncoder()\n",
    "enc.fit(accident[\"INITDIR\"])\n",
    "new_cat_features = enc.transform(accident[\"INITDIR\"])\n",
    "print(new_cat_features) # [1 2 0]\n",
    "accident[\"INITDIR\"] = new_cat_features"
   ]
  },
  {
   "cell_type": "code",
   "execution_count": 25,
   "metadata": {},
   "outputs": [
    {
     "name": "stdout",
     "output_type": "stream",
     "text": [
      "[ 1  0 11 ...,  0 11  0]\n"
     ]
    }
   ],
   "source": [
    "from sklearn import preprocessing\n",
    "enc = preprocessing.LabelEncoder()\n",
    "enc.fit(accident[\"VEHTYPE\"])\n",
    "new_cat_features = enc.transform(accident[\"VEHTYPE\"])\n",
    "print(new_cat_features) # [1 2 0]\n",
    "accident[\"VEHTYPE\"] = new_cat_features"
   ]
  },
  {
   "cell_type": "code",
   "execution_count": 26,
   "metadata": {
    "collapsed": true
   },
   "outputs": [],
   "source": [
    "accidentValue = accident.iloc[:, 5:12]\n",
    "accidentValue = accidentValue.reset_index()\n",
    "accidentValue = accidentValue.drop(['DATE'], axis=1)"
   ]
  },
  {
   "cell_type": "code",
   "execution_count": 27,
   "metadata": {
    "collapsed": true
   },
   "outputs": [],
   "source": [
    "accidentValue = accidentValue.values"
   ]
  },
  {
   "cell_type": "code",
   "execution_count": 28,
   "metadata": {},
   "outputs": [
    {
     "data": {
      "text/plain": [
       "array([4, 4, 1, 2, 1, 4, 1], dtype=int64)"
      ]
     },
     "execution_count": 28,
     "metadata": {},
     "output_type": "execute_result"
    }
   ],
   "source": [
    "accidentValue[0]"
   ]
  },
  {
   "cell_type": "code",
   "execution_count": 37,
   "metadata": {},
   "outputs": [
    {
     "data": {
      "text/plain": [
       "array([0, 0, 1, ..., 0, 1, 0])"
      ]
     },
     "execution_count": 37,
     "metadata": {},
     "output_type": "execute_result"
    }
   ],
   "source": [
    "import sklearn.cluster as cluster\n",
    "kmeans = cluster.KMeans(n_clusters=3, init=\"k-means++\", max_iter=300, n_init=10, random_state=0)\n",
    "yMeans = kmeans.fit_predict(accidentValue)\n",
    "yMeans"
   ]
  },
  {
   "cell_type": "code",
   "execution_count": 30,
   "metadata": {},
   "outputs": [
    {
     "data": {
      "image/png": "[encoded data removed]",
      "text/plain": [
       "<matplotlib.figure.Figure at 0xd8b0be0>"
      ]
     },
     "metadata": {},
     "output_type": "display_data"
    }
   ],
   "source": [
    "plt.scatter(accidentValue[yMeans==0, 0], accidentValue[yMeans==0, 1], color=\"r\")\n",
    "plt.scatter(accidentValue[yMeans==1, 0], accidentValue[yMeans==1, 1], color=\"g\")\n",
    "plt.scatter(accidentValue[yMeans==2, 0], accidentValue[yMeans==2, 1], color=\"b\")\n",
    "plt.show()"
   ]
  },
  {
   "cell_type": "code",
   "execution_count": 31,
   "metadata": {
    "collapsed": true
   },
   "outputs": [],
   "source": [
    "import sklearn.model_selection as mdl\n",
    "import sklearn.metrics as mat\n",
    "import sklearn.svm as svm\n"
   ]
  },
  {
   "cell_type": "code",
   "execution_count": 32,
   "metadata": {},
   "outputs": [
    {
     "data": {
      "text/plain": [
       "SVC(C=1.0, cache_size=200, class_weight=None, coef0=0.0,\n",
       "  decision_function_shape='ovr', degree=3, gamma='auto', kernel='linear',\n",
       "  max_iter=-1, probability=False, random_state=0, shrinking=True,\n",
       "  tol=0.001, verbose=False)"
      ]
     },
     "execution_count": 32,
     "metadata": {},
     "output_type": "execute_result"
    }
   ],
   "source": [
    "classifier = svm.SVC(kernel='linear', random_state=0)\n",
    "classifier.fit(accidentValue, yMeans)\n",
    "    "
   ]
  },
  {
   "cell_type": "code",
   "execution_count": null,
   "metadata": {},
   "outputs": [],
   "source": [
    "X_test  = [['', '', '', '' ,'', '', '']]\n",
    "predic  = classifier.predict(X_test)\n",
    "print(predic)    "
   ]
  },
  {
   "cell_type": "code",
   "execution_count": null,
   "metadata": {
    "collapsed": true
   },
   "outputs": [],
   "source": [
    "2017-06-03T04:00:00.000Z \t43.675280 \t-79.454730 \tST CLAIR AVE W \tCALEDONIA RD \tMajor Arterial \tToronto and East York \tIntersection \tIntersection Related \tMajor \tWest \tBicycle \tGoing Ahead \t\t\t"
   ]
  },
  {
   "cell_type": "code",
   "execution_count": null,
   "metadata": {
    "collapsed": true
   },
   "outputs": [],
   "source": []
  },
  {
   "cell_type": "code",
   "execution_count": null,
   "metadata": {
    "collapsed": true
   },
   "outputs": [],
   "source": []
  }
 ],
 "metadata": {
  "kernelspec": {
   "display_name": "Python 3",
   "language": "python",
   "name": "python3"
  },
  "language_info": {
   "codemirror_mode": {
    "name": "ipython",
    "version": 3
   },
   "file_extension": ".py",
   "mimetype": "text/x-python",
   "name": "python",
   "nbconvert_exporter": "python",
   "pygments_lexer": "ipython3",
   "version": "3.6.3"
  }
 },
 "nbformat": 4,
 "nbformat_minor": 2
}
