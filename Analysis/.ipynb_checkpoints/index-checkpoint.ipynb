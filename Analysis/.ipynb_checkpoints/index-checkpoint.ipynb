{
 "cells": [
  {
   "cell_type": "code",
   "execution_count": 92,
   "metadata": {
    "collapsed": true
   },
   "outputs": [],
   "source": [
    "import pandas as pd\n",
    "import numpy as np\n",
    "import gmplot\n",
    "\n",
    "import matplotlib.pyplot as plt\n",
    "\n",
    "import folium\n",
    "from IPython.display import display\n",
    "\n",
    "import sklearn\n",
    "import sklearn.preprocessing as pre\n",
    "import sklearn.model_selection as mdl"
   ]
  },
  {
   "cell_type": "code",
   "execution_count": 93,
   "metadata": {
    "collapsed": true
   },
   "outputs": [],
   "source": [
    "accident1 = pd.read_csv('../RawData/KSI(1999-2014).csv')\n",
    "accident2 = pd.read_csv('../RawData/KSI(2008-2018).csv')"
   ]
  },
  {
   "cell_type": "code",
   "execution_count": null,
   "metadata": {
    "collapsed": true
   },
   "outputs": [],
   "source": []
  },
  {
   "cell_type": "code",
   "execution_count": null,
   "metadata": {
    "collapsed": true
   },
   "outputs": [],
   "source": []
  },
  {
   "cell_type": "code",
   "execution_count": 94,
   "metadata": {
    "collapsed": true,
    "scrolled": true
   },
   "outputs": [],
   "source": [
    "accident = accident2[['DATE','LATITUDE', 'LONGITUDE', 'STREET1', 'STREET2', 'ROAD_CLASS', 'District', \n",
    "                      'LOCCOORD', 'ACCLOC', 'INJURY', 'INITDIR', 'VEHTYPE', 'MANOEUVER', 'DRIVACT', \n",
    "                      'SPEEDING', 'AG_DRIV', 'REDLIGHT', 'ALCOHOL']]"
   ]
  },
  {
   "cell_type": "code",
   "execution_count": 95,
   "metadata": {},
   "outputs": [
    {
     "name": "stdout",
     "output_type": "stream",
     "text": [
      "<class 'pandas.core.frame.DataFrame'>\n",
      "RangeIndex: 12244 entries, 0 to 12243\n",
      "Data columns (total 18 columns):\n",
      "DATE          12244 non-null object\n",
      "LATITUDE      12244 non-null float64\n",
      "LONGITUDE     12244 non-null float64\n",
      "STREET1       12244 non-null object\n",
      "STREET2       12244 non-null object\n",
      "ROAD_CLASS    12244 non-null object\n",
      "District      12244 non-null object\n",
      "LOCCOORD      12244 non-null object\n",
      "ACCLOC        12244 non-null object\n",
      "INJURY        12244 non-null object\n",
      "INITDIR       12244 non-null object\n",
      "VEHTYPE       12244 non-null object\n",
      "MANOEUVER     12244 non-null object\n",
      "DRIVACT       12244 non-null object\n",
      "SPEEDING      12244 non-null object\n",
      "AG_DRIV       12244 non-null object\n",
      "REDLIGHT      12244 non-null object\n",
      "ALCOHOL       12244 non-null object\n",
      "dtypes: float64(2), object(16)\n",
      "memory usage: 1.7+ MB\n"
     ]
    }
   ],
   "source": [
    "accident.info()"
   ]
  },
  {
   "cell_type": "code",
   "execution_count": 96,
   "metadata": {},
   "outputs": [
    {
     "data": {
      "text/html": [
       "<div>\n",
       "<style>\n",
       "    .dataframe thead tr:only-child th {\n",
       "        text-align: right;\n",
       "    }\n",
       "\n",
       "    .dataframe thead th {\n",
       "        text-align: left;\n",
       "    }\n",
       "\n",
       "    .dataframe tbody tr th {\n",
       "        vertical-align: top;\n",
       "    }\n",
       "</style>\n",
       "<table border=\"1\" class=\"dataframe\">\n",
       "  <thead>\n",
       "    <tr style=\"text-align: right;\">\n",
       "      <th></th>\n",
       "      <th>DATE</th>\n",
       "      <th>LATITUDE</th>\n",
       "      <th>LONGITUDE</th>\n",
       "      <th>STREET1</th>\n",
       "      <th>STREET2</th>\n",
       "      <th>ROAD_CLASS</th>\n",
       "      <th>District</th>\n",
       "      <th>LOCCOORD</th>\n",
       "      <th>ACCLOC</th>\n",
       "      <th>INJURY</th>\n",
       "      <th>INITDIR</th>\n",
       "      <th>VEHTYPE</th>\n",
       "      <th>MANOEUVER</th>\n",
       "      <th>DRIVACT</th>\n",
       "      <th>SPEEDING</th>\n",
       "      <th>AG_DRIV</th>\n",
       "      <th>REDLIGHT</th>\n",
       "      <th>ALCOHOL</th>\n",
       "    </tr>\n",
       "  </thead>\n",
       "  <tbody>\n",
       "    <tr>\n",
       "      <th>0</th>\n",
       "      <td>2017-06-03T04:00:00.000Z</td>\n",
       "      <td>43.675280</td>\n",
       "      <td>-79.454730</td>\n",
       "      <td>ST CLAIR AVE W</td>\n",
       "      <td>CALEDONIA RD</td>\n",
       "      <td>Major Arterial</td>\n",
       "      <td>Toronto and East York</td>\n",
       "      <td>Intersection</td>\n",
       "      <td>Intersection Related</td>\n",
       "      <td>Major</td>\n",
       "      <td>West</td>\n",
       "      <td>Bicycle</td>\n",
       "      <td>Going Ahead</td>\n",
       "      <td></td>\n",
       "      <td></td>\n",
       "      <td>Yes</td>\n",
       "      <td></td>\n",
       "      <td></td>\n",
       "    </tr>\n",
       "    <tr>\n",
       "      <th>1</th>\n",
       "      <td>2017-09-25T04:00:00.000Z</td>\n",
       "      <td>43.770049</td>\n",
       "      <td>-79.520641</td>\n",
       "      <td>4673 JANE ST</td>\n",
       "      <td></td>\n",
       "      <td>Major Arterial</td>\n",
       "      <td>Etobicoke York</td>\n",
       "      <td>Mid-Block</td>\n",
       "      <td>Non Intersection</td>\n",
       "      <td>None</td>\n",
       "      <td>North</td>\n",
       "      <td>Automobile, Station Wagon</td>\n",
       "      <td>Going Ahead</td>\n",
       "      <td>Driving Properly</td>\n",
       "      <td>Yes</td>\n",
       "      <td>Yes</td>\n",
       "      <td></td>\n",
       "      <td></td>\n",
       "    </tr>\n",
       "    <tr>\n",
       "      <th>2</th>\n",
       "      <td>2017-09-25T04:00:00.000Z</td>\n",
       "      <td>43.770049</td>\n",
       "      <td>-79.520641</td>\n",
       "      <td>4673 JANE ST</td>\n",
       "      <td></td>\n",
       "      <td>Major Arterial</td>\n",
       "      <td>Etobicoke York</td>\n",
       "      <td>Mid-Block</td>\n",
       "      <td>Non Intersection</td>\n",
       "      <td>Major</td>\n",
       "      <td>East</td>\n",
       "      <td></td>\n",
       "      <td></td>\n",
       "      <td></td>\n",
       "      <td>Yes</td>\n",
       "      <td>Yes</td>\n",
       "      <td></td>\n",
       "      <td></td>\n",
       "    </tr>\n",
       "    <tr>\n",
       "      <th>3</th>\n",
       "      <td>2017-12-01T05:00:00.000Z</td>\n",
       "      <td>43.751868</td>\n",
       "      <td>-79.286601</td>\n",
       "      <td>BIRCHMOUNT RD</td>\n",
       "      <td>MERRYFIELD DR</td>\n",
       "      <td>Major Arterial</td>\n",
       "      <td>Scarborough</td>\n",
       "      <td>Intersection</td>\n",
       "      <td>At Intersection</td>\n",
       "      <td>None</td>\n",
       "      <td>North</td>\n",
       "      <td>Passenger Van</td>\n",
       "      <td>Going Ahead</td>\n",
       "      <td>Driving Properly</td>\n",
       "      <td></td>\n",
       "      <td></td>\n",
       "      <td></td>\n",
       "      <td></td>\n",
       "    </tr>\n",
       "    <tr>\n",
       "      <th>4</th>\n",
       "      <td>2017-12-01T05:00:00.000Z</td>\n",
       "      <td>43.751868</td>\n",
       "      <td>-79.286601</td>\n",
       "      <td>BIRCHMOUNT RD</td>\n",
       "      <td>MERRYFIELD DR</td>\n",
       "      <td>Major Arterial</td>\n",
       "      <td>Scarborough</td>\n",
       "      <td>Intersection</td>\n",
       "      <td>At Intersection</td>\n",
       "      <td>Fatal</td>\n",
       "      <td>East</td>\n",
       "      <td></td>\n",
       "      <td></td>\n",
       "      <td></td>\n",
       "      <td></td>\n",
       "      <td></td>\n",
       "      <td></td>\n",
       "      <td></td>\n",
       "    </tr>\n",
       "  </tbody>\n",
       "</table>\n",
       "</div>"
      ],
      "text/plain": [
       "                       DATE   LATITUDE  LONGITUDE         STREET1  \\\n",
       "0  2017-06-03T04:00:00.000Z  43.675280 -79.454730  ST CLAIR AVE W   \n",
       "1  2017-09-25T04:00:00.000Z  43.770049 -79.520641    4673 JANE ST   \n",
       "2  2017-09-25T04:00:00.000Z  43.770049 -79.520641    4673 JANE ST   \n",
       "3  2017-12-01T05:00:00.000Z  43.751868 -79.286601   BIRCHMOUNT RD   \n",
       "4  2017-12-01T05:00:00.000Z  43.751868 -79.286601   BIRCHMOUNT RD   \n",
       "\n",
       "         STREET2      ROAD_CLASS               District      LOCCOORD  \\\n",
       "0   CALEDONIA RD  Major Arterial  Toronto and East York  Intersection   \n",
       "1                 Major Arterial         Etobicoke York     Mid-Block   \n",
       "2                 Major Arterial         Etobicoke York     Mid-Block   \n",
       "3  MERRYFIELD DR  Major Arterial            Scarborough  Intersection   \n",
       "4  MERRYFIELD DR  Major Arterial            Scarborough  Intersection   \n",
       "\n",
       "                 ACCLOC INJURY INITDIR                    VEHTYPE  \\\n",
       "0  Intersection Related  Major    West                    Bicycle   \n",
       "1      Non Intersection   None   North  Automobile, Station Wagon   \n",
       "2      Non Intersection  Major    East                              \n",
       "3       At Intersection   None   North              Passenger Van   \n",
       "4       At Intersection  Fatal    East                              \n",
       "\n",
       "     MANOEUVER           DRIVACT SPEEDING AG_DRIV REDLIGHT ALCOHOL  \n",
       "0  Going Ahead                                Yes                   \n",
       "1  Going Ahead  Driving Properly      Yes     Yes                   \n",
       "2                                     Yes     Yes                   \n",
       "3  Going Ahead  Driving Properly                                    \n",
       "4                                                                   "
      ]
     },
     "execution_count": 96,
     "metadata": {},
     "output_type": "execute_result"
    }
   ],
   "source": [
    "accident.head()"
   ]
  },
  {
   "cell_type": "code",
   "execution_count": 97,
   "metadata": {},
   "outputs": [
    {
     "name": "stderr",
     "output_type": "stream",
     "text": [
      "C:\\Users\\Tanvy\\Anaconda3\\lib\\site-packages\\ipykernel_launcher.py:1: SettingWithCopyWarning: \n",
      "A value is trying to be set on a copy of a slice from a DataFrame.\n",
      "Try using .loc[row_indexer,col_indexer] = value instead\n",
      "\n",
      "See the caveats in the documentation: http://pandas.pydata.org/pandas-docs/stable/indexing.html#indexing-view-versus-copy\n",
      "  \"\"\"Entry point for launching an IPython kernel.\n"
     ]
    }
   ],
   "source": [
    "accident[\"DATE\"] = pd.to_datetime(accident[\"DATE\"])\n",
    "accident.index = accident[\"DATE\"]"
   ]
  },
  {
   "cell_type": "code",
   "execution_count": 98,
   "metadata": {},
   "outputs": [
    {
     "data": {
      "text/plain": [
       "array([2017, 2008, 2014, 2015, 2018, 2013, 2009, 2010, 2012, 2016, 2011], dtype=int64)"
      ]
     },
     "execution_count": 98,
     "metadata": {},
     "output_type": "execute_result"
    }
   ],
   "source": [
    "pd.unique(accident['DATE'].dt.year)"
   ]
  },
  {
   "cell_type": "code",
   "execution_count": 99,
   "metadata": {},
   "outputs": [
    {
     "data": {
      "text/html": [
       "<div>\n",
       "<style>\n",
       "    .dataframe thead tr:only-child th {\n",
       "        text-align: right;\n",
       "    }\n",
       "\n",
       "    .dataframe thead th {\n",
       "        text-align: left;\n",
       "    }\n",
       "\n",
       "    .dataframe tbody tr th {\n",
       "        vertical-align: top;\n",
       "    }\n",
       "</style>\n",
       "<table border=\"1\" class=\"dataframe\">\n",
       "  <thead>\n",
       "    <tr style=\"text-align: right;\">\n",
       "      <th></th>\n",
       "      <th>DATE</th>\n",
       "      <th>LATITUDE</th>\n",
       "      <th>LONGITUDE</th>\n",
       "      <th>STREET1</th>\n",
       "      <th>STREET2</th>\n",
       "      <th>ROAD_CLASS</th>\n",
       "      <th>District</th>\n",
       "      <th>LOCCOORD</th>\n",
       "      <th>ACCLOC</th>\n",
       "      <th>INJURY</th>\n",
       "      <th>INITDIR</th>\n",
       "      <th>VEHTYPE</th>\n",
       "      <th>MANOEUVER</th>\n",
       "      <th>DRIVACT</th>\n",
       "      <th>SPEEDING</th>\n",
       "      <th>AG_DRIV</th>\n",
       "      <th>REDLIGHT</th>\n",
       "      <th>ALCOHOL</th>\n",
       "    </tr>\n",
       "    <tr>\n",
       "      <th>DATE</th>\n",
       "      <th></th>\n",
       "      <th></th>\n",
       "      <th></th>\n",
       "      <th></th>\n",
       "      <th></th>\n",
       "      <th></th>\n",
       "      <th></th>\n",
       "      <th></th>\n",
       "      <th></th>\n",
       "      <th></th>\n",
       "      <th></th>\n",
       "      <th></th>\n",
       "      <th></th>\n",
       "      <th></th>\n",
       "      <th></th>\n",
       "      <th></th>\n",
       "      <th></th>\n",
       "      <th></th>\n",
       "    </tr>\n",
       "  </thead>\n",
       "  <tbody>\n",
       "    <tr>\n",
       "      <th>2017-06-03 04:00:00</th>\n",
       "      <td>2017-06-03 04:00:00</td>\n",
       "      <td>43.675280</td>\n",
       "      <td>-79.454730</td>\n",
       "      <td>ST CLAIR AVE W</td>\n",
       "      <td>CALEDONIA RD</td>\n",
       "      <td>Major Arterial</td>\n",
       "      <td>Toronto and East York</td>\n",
       "      <td>Intersection</td>\n",
       "      <td>Intersection Related</td>\n",
       "      <td>Major</td>\n",
       "      <td>West</td>\n",
       "      <td>Bicycle</td>\n",
       "      <td>Going Ahead</td>\n",
       "      <td></td>\n",
       "      <td></td>\n",
       "      <td>Yes</td>\n",
       "      <td></td>\n",
       "      <td></td>\n",
       "    </tr>\n",
       "    <tr>\n",
       "      <th>2017-09-25 04:00:00</th>\n",
       "      <td>2017-09-25 04:00:00</td>\n",
       "      <td>43.770049</td>\n",
       "      <td>-79.520641</td>\n",
       "      <td>4673 JANE ST</td>\n",
       "      <td></td>\n",
       "      <td>Major Arterial</td>\n",
       "      <td>Etobicoke York</td>\n",
       "      <td>Mid-Block</td>\n",
       "      <td>Non Intersection</td>\n",
       "      <td>None</td>\n",
       "      <td>North</td>\n",
       "      <td>Automobile, Station Wagon</td>\n",
       "      <td>Going Ahead</td>\n",
       "      <td>Driving Properly</td>\n",
       "      <td>Yes</td>\n",
       "      <td>Yes</td>\n",
       "      <td></td>\n",
       "      <td></td>\n",
       "    </tr>\n",
       "    <tr>\n",
       "      <th>2017-09-25 04:00:00</th>\n",
       "      <td>2017-09-25 04:00:00</td>\n",
       "      <td>43.770049</td>\n",
       "      <td>-79.520641</td>\n",
       "      <td>4673 JANE ST</td>\n",
       "      <td></td>\n",
       "      <td>Major Arterial</td>\n",
       "      <td>Etobicoke York</td>\n",
       "      <td>Mid-Block</td>\n",
       "      <td>Non Intersection</td>\n",
       "      <td>Major</td>\n",
       "      <td>East</td>\n",
       "      <td></td>\n",
       "      <td></td>\n",
       "      <td></td>\n",
       "      <td>Yes</td>\n",
       "      <td>Yes</td>\n",
       "      <td></td>\n",
       "      <td></td>\n",
       "    </tr>\n",
       "    <tr>\n",
       "      <th>2017-12-01 05:00:00</th>\n",
       "      <td>2017-12-01 05:00:00</td>\n",
       "      <td>43.751868</td>\n",
       "      <td>-79.286601</td>\n",
       "      <td>BIRCHMOUNT RD</td>\n",
       "      <td>MERRYFIELD DR</td>\n",
       "      <td>Major Arterial</td>\n",
       "      <td>Scarborough</td>\n",
       "      <td>Intersection</td>\n",
       "      <td>At Intersection</td>\n",
       "      <td>None</td>\n",
       "      <td>North</td>\n",
       "      <td>Passenger Van</td>\n",
       "      <td>Going Ahead</td>\n",
       "      <td>Driving Properly</td>\n",
       "      <td></td>\n",
       "      <td></td>\n",
       "      <td></td>\n",
       "      <td></td>\n",
       "    </tr>\n",
       "    <tr>\n",
       "      <th>2017-12-01 05:00:00</th>\n",
       "      <td>2017-12-01 05:00:00</td>\n",
       "      <td>43.751868</td>\n",
       "      <td>-79.286601</td>\n",
       "      <td>BIRCHMOUNT RD</td>\n",
       "      <td>MERRYFIELD DR</td>\n",
       "      <td>Major Arterial</td>\n",
       "      <td>Scarborough</td>\n",
       "      <td>Intersection</td>\n",
       "      <td>At Intersection</td>\n",
       "      <td>Fatal</td>\n",
       "      <td>East</td>\n",
       "      <td></td>\n",
       "      <td></td>\n",
       "      <td></td>\n",
       "      <td></td>\n",
       "      <td></td>\n",
       "      <td></td>\n",
       "      <td></td>\n",
       "    </tr>\n",
       "  </tbody>\n",
       "</table>\n",
       "</div>"
      ],
      "text/plain": [
       "                                   DATE   LATITUDE  LONGITUDE         STREET1  \\\n",
       "DATE                                                                            \n",
       "2017-06-03 04:00:00 2017-06-03 04:00:00  43.675280 -79.454730  ST CLAIR AVE W   \n",
       "2017-09-25 04:00:00 2017-09-25 04:00:00  43.770049 -79.520641    4673 JANE ST   \n",
       "2017-09-25 04:00:00 2017-09-25 04:00:00  43.770049 -79.520641    4673 JANE ST   \n",
       "2017-12-01 05:00:00 2017-12-01 05:00:00  43.751868 -79.286601   BIRCHMOUNT RD   \n",
       "2017-12-01 05:00:00 2017-12-01 05:00:00  43.751868 -79.286601   BIRCHMOUNT RD   \n",
       "\n",
       "                           STREET2      ROAD_CLASS               District  \\\n",
       "DATE                                                                        \n",
       "2017-06-03 04:00:00   CALEDONIA RD  Major Arterial  Toronto and East York   \n",
       "2017-09-25 04:00:00                 Major Arterial         Etobicoke York   \n",
       "2017-09-25 04:00:00                 Major Arterial         Etobicoke York   \n",
       "2017-12-01 05:00:00  MERRYFIELD DR  Major Arterial            Scarborough   \n",
       "2017-12-01 05:00:00  MERRYFIELD DR  Major Arterial            Scarborough   \n",
       "\n",
       "                         LOCCOORD                ACCLOC INJURY INITDIR  \\\n",
       "DATE                                                                     \n",
       "2017-06-03 04:00:00  Intersection  Intersection Related  Major    West   \n",
       "2017-09-25 04:00:00     Mid-Block      Non Intersection   None   North   \n",
       "2017-09-25 04:00:00     Mid-Block      Non Intersection  Major    East   \n",
       "2017-12-01 05:00:00  Intersection       At Intersection   None   North   \n",
       "2017-12-01 05:00:00  Intersection       At Intersection  Fatal    East   \n",
       "\n",
       "                                       VEHTYPE    MANOEUVER           DRIVACT  \\\n",
       "DATE                                                                            \n",
       "2017-06-03 04:00:00                    Bicycle  Going Ahead                     \n",
       "2017-09-25 04:00:00  Automobile, Station Wagon  Going Ahead  Driving Properly   \n",
       "2017-09-25 04:00:00                                                             \n",
       "2017-12-01 05:00:00              Passenger Van  Going Ahead  Driving Properly   \n",
       "2017-12-01 05:00:00                                                             \n",
       "\n",
       "                    SPEEDING AG_DRIV REDLIGHT ALCOHOL  \n",
       "DATE                                                   \n",
       "2017-06-03 04:00:00              Yes                   \n",
       "2017-09-25 04:00:00      Yes     Yes                   \n",
       "2017-09-25 04:00:00      Yes     Yes                   \n",
       "2017-12-01 05:00:00                                    \n",
       "2017-12-01 05:00:00                                    "
      ]
     },
     "execution_count": 99,
     "metadata": {},
     "output_type": "execute_result"
    }
   ],
   "source": [
    "accident.head()"
   ]
  },
  {
   "cell_type": "code",
   "execution_count": 100,
   "metadata": {
    "collapsed": true
   },
   "outputs": [],
   "source": [
    "accident = accident.replace(' ', np.NAN, regex=False)"
   ]
  },
  {
   "cell_type": "code",
   "execution_count": 101,
   "metadata": {
    "scrolled": true
   },
   "outputs": [
    {
     "name": "stdout",
     "output_type": "stream",
     "text": [
      "<class 'pandas.core.frame.DataFrame'>\n",
      "DatetimeIndex: 12244 entries, 2017-06-03 04:00:00 to 2011-06-26 04:00:00\n",
      "Data columns (total 18 columns):\n",
      "DATE          12244 non-null datetime64[ns]\n",
      "LATITUDE      12244 non-null float64\n",
      "LONGITUDE     12244 non-null float64\n",
      "STREET1       12244 non-null object\n",
      "STREET2       11191 non-null object\n",
      "ROAD_CLASS    12223 non-null object\n",
      "District      12222 non-null object\n",
      "LOCCOORD      12169 non-null object\n",
      "ACCLOC        8348 non-null object\n",
      "INJURY        10915 non-null object\n",
      "INITDIR       8821 non-null object\n",
      "VEHTYPE       10095 non-null object\n",
      "MANOEUVER     7022 non-null object\n",
      "DRIVACT       6180 non-null object\n",
      "SPEEDING      2035 non-null object\n",
      "AG_DRIV       6324 non-null object\n",
      "REDLIGHT      959 non-null object\n",
      "ALCOHOL       487 non-null object\n",
      "dtypes: datetime64[ns](1), float64(2), object(15)\n",
      "memory usage: 1.8+ MB\n"
     ]
    }
   ],
   "source": [
    "accident.info()"
   ]
  },
  {
   "cell_type": "code",
   "execution_count": 105,
   "metadata": {},
   "outputs": [
    {
     "name": "stdout",
     "output_type": "stream",
     "text": [
      "0\n",
      "0\n"
     ]
    },
    {
     "name": "stderr",
     "output_type": "stream",
     "text": [
      "C:\\Users\\Tanvy\\Anaconda3\\lib\\site-packages\\ipykernel_launcher.py:3: SettingWithCopyWarning: \n",
      "A value is trying to be set on a copy of a slice from a DataFrame\n",
      "\n",
      "See the caveats in the documentation: http://pandas.pydata.org/pandas-docs/stable/indexing.html#indexing-view-versus-copy\n",
      "  This is separate from the ipykernel package so we can avoid doing imports until\n"
     ]
    }
   ],
   "source": [
    "accident[\"District\"][accident[\"District\"].isnull()]\n",
    "print(len(accident[\"District\"][accident[\"District\"].isnull()]))\n",
    "accident[\"District\"][accident[\"District\"].isnull()] = \"Scarborough\"\n",
    "print(len(accident[\"District\"][accident[\"District\"].isnull()]))\n"
   ]
  },
  {
   "cell_type": "code",
   "execution_count": 106,
   "metadata": {},
   "outputs": [],
   "source": [
    "accidentValue = accident.values"
   ]
  },
  {
   "cell_type": "code",
   "execution_count": null,
   "metadata": {},
   "outputs": [],
   "source": []
  },
  {
   "cell_type": "code",
   "execution_count": null,
   "metadata": {},
   "outputs": [],
   "source": []
  },
  {
   "cell_type": "code",
   "execution_count": 121,
   "metadata": {},
   "outputs": [
    {
     "name": "stdout",
     "output_type": "stream",
     "text": [
      "[4 0 0 ..., 1 1 1]\n"
     ]
    },
    {
     "ename": "AttributeError",
     "evalue": "'numpy.ndarray' object has no attribute 'toarray'",
     "output_type": "error",
     "traceback": [
      "\u001b[1;31m---------------------------------------------------------------------------\u001b[0m",
      "\u001b[1;31mAttributeError\u001b[0m                            Traceback (most recent call last)",
      "\u001b[1;32m<ipython-input-121-006f69a67cbe>\u001b[0m in \u001b[0;36m<module>\u001b[1;34m()\u001b[0m\n\u001b[0;32m      6\u001b[0m \u001b[0mnew_cat_features\u001b[0m \u001b[1;33m=\u001b[0m \u001b[0mnew_cat_features\u001b[0m\u001b[1;33m.\u001b[0m\u001b[0mreshape\u001b[0m\u001b[1;33m(\u001b[0m\u001b[1;33m-\u001b[0m\u001b[1;36m1\u001b[0m\u001b[1;33m,\u001b[0m \u001b[1;36m1\u001b[0m\u001b[1;33m)\u001b[0m \u001b[1;31m# Needs to be the correct shape\u001b[0m\u001b[1;33m\u001b[0m\u001b[0m\n\u001b[0;32m      7\u001b[0m \u001b[0mohe\u001b[0m \u001b[1;33m=\u001b[0m \u001b[0mpreprocessing\u001b[0m\u001b[1;33m.\u001b[0m\u001b[0mOneHotEncoder\u001b[0m\u001b[1;33m(\u001b[0m\u001b[0msparse\u001b[0m\u001b[1;33m=\u001b[0m\u001b[1;32mFalse\u001b[0m\u001b[1;33m)\u001b[0m \u001b[1;31m#Easier to read\u001b[0m\u001b[1;33m\u001b[0m\u001b[0m\n\u001b[1;32m----> 8\u001b[1;33m \u001b[0maccidentValue\u001b[0m\u001b[1;33m[\u001b[0m\u001b[1;33m:\u001b[0m\u001b[1;33m,\u001b[0m \u001b[1;36m6\u001b[0m\u001b[1;33m]\u001b[0m \u001b[1;33m=\u001b[0m \u001b[0mohe\u001b[0m\u001b[1;33m.\u001b[0m\u001b[0mfit_transform\u001b[0m\u001b[1;33m(\u001b[0m\u001b[0mnew_cat_features\u001b[0m\u001b[1;33m)\u001b[0m\u001b[1;33m.\u001b[0m\u001b[0mtoarray\u001b[0m\u001b[1;33m(\u001b[0m\u001b[1;33m)\u001b[0m\u001b[1;33m\u001b[0m\u001b[0m\n\u001b[0m",
      "\u001b[1;31mAttributeError\u001b[0m: 'numpy.ndarray' object has no attribute 'toarray'"
     ]
    }
   ],
   "source": [
    "from sklearn import preprocessing\n",
    "enc = preprocessing.LabelEncoder()\n",
    "enc.fit(accident[\"District\"])\n",
    "new_cat_features = enc.transform(cat_features)\n",
    "print(new_cat_features) # [1 2 0]\n",
    "new_cat_features = new_cat_features.reshape(-1, 1) # Needs to be the correct shape\n",
    "ohe = preprocessing.OneHotEncoder(sparse=False) #Easier to read\n",
    "accidentValue[:, 6] = ohe.fit_transform(new_cat_features).toarray()"
   ]
  },
  {
   "cell_type": "code",
   "execution_count": 117,
   "metadata": {},
   "outputs": [
    {
     "data": {
      "text/plain": [
       "(12244,)"
      ]
     },
     "execution_count": 117,
     "metadata": {},
     "output_type": "execute_result"
    }
   ],
   "source": [
    "accidentValue[:, 6].shape"
   ]
  },
  {
   "cell_type": "code",
   "execution_count": null,
   "metadata": {},
   "outputs": [],
   "source": [
    "from sklearn import preprocessing\n",
    "enc = preprocessing.LabelEncoder()\n",
    "enc.fit(cat_features)\n",
    "new_cat_features = enc.transform(cat_features)\n",
    "print(new_cat_features) # [1 2 0]\n",
    "new_cat_features = new_cat_features.reshape(-1, 1) # Needs to be the correct shape\n",
    "ohe = preprocessing.OneHotEncoder(sparse=False) #Easier to read\n",
    "accidentValue[:, 6] = ohe.fit_transform(new_cat_features).toarray()"
   ]
  },
  {
   "cell_type": "code",
   "execution_count": null,
   "metadata": {
    "collapsed": true
   },
   "outputs": [],
   "source": [
    "a = np.array([[\"qw a\",\"1\"], [\"wq a\",\"2\"], [\"qw a\",\"3\"], [\"qw b\",\"4\"]])"
   ]
  },
  {
   "cell_type": "code",
   "execution_count": null,
   "metadata": {},
   "outputs": [],
   "source": [
    "a"
   ]
  },
  {
   "cell_type": "code",
   "execution_count": null,
   "metadata": {
    "collapsed": true
   },
   "outputs": [],
   "source": [
    "l = pre.LabelEncoder()\n",
    "a[:, 0] = l.fit_transform(a[:, 0])"
   ]
  },
  {
   "cell_type": "code",
   "execution_count": null,
   "metadata": {},
   "outputs": [],
   "source": [
    "a"
   ]
  },
  {
   "cell_type": "code",
   "execution_count": null,
   "metadata": {
    "collapsed": true
   },
   "outputs": [],
   "source": []
  }
 ],
 "metadata": {
  "kernelspec": {
   "display_name": "Python 3",
   "language": "python",
   "name": "python3"
  },
  "language_info": {
   "codemirror_mode": {
    "name": "ipython",
    "version": 3
   },
   "file_extension": ".py",
   "mimetype": "text/x-python",
   "name": "python",
   "nbconvert_exporter": "python",
   "pygments_lexer": "ipython3",
   "version": "3.6.3"
  }
 },
 "nbformat": 4,
 "nbformat_minor": 2
}
